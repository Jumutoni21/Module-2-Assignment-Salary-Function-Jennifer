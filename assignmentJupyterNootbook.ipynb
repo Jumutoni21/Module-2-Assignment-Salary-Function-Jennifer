{
 "cells": [
  {
   "cell_type": "markdown",
   "id": "a99aa385-c9c3-4cc9-96f3-fb0d4f3e886e",
   "metadata": {},
   "source": [
    "<h1> Importing data from SF-salary Document </h1>"
   ]
  },
  {
   "cell_type": "code",
   "execution_count": 1,
   "id": "11cba6ed-173c-4550-9cee-00afc1704332",
   "metadata": {},
   "outputs": [
    {
     "data": {
      "text/html": [
       "<div>\n",
       "<style scoped>\n",
       "    .dataframe tbody tr th:only-of-type {\n",
       "        vertical-align: middle;\n",
       "    }\n",
       "\n",
       "    .dataframe tbody tr th {\n",
       "        vertical-align: top;\n",
       "    }\n",
       "\n",
       "    .dataframe thead th {\n",
       "        text-align: right;\n",
       "    }\n",
       "</style>\n",
       "<table border=\"1\" class=\"dataframe\">\n",
       "  <thead>\n",
       "    <tr style=\"text-align: right;\">\n",
       "      <th></th>\n",
       "      <th>EmployeeName</th>\n",
       "      <th>JobTitle</th>\n",
       "      <th>BasePay</th>\n",
       "      <th>OvertimePay</th>\n",
       "      <th>OtherPay</th>\n",
       "      <th>Benefits</th>\n",
       "      <th>TotalPay</th>\n",
       "      <th>TotalPayBenefits</th>\n",
       "      <th>Year</th>\n",
       "    </tr>\n",
       "  </thead>\n",
       "  <tbody>\n",
       "    <tr>\n",
       "      <th>0</th>\n",
       "      <td>NATHANIEL FORD</td>\n",
       "      <td>GENERAL MANAGER-METROPOLITAN TRANSIT AUTHORITY</td>\n",
       "      <td>167411.18</td>\n",
       "      <td>0.00</td>\n",
       "      <td>400184.25</td>\n",
       "      <td>Not Provided</td>\n",
       "      <td>567595.43</td>\n",
       "      <td>567595.43</td>\n",
       "      <td>2011</td>\n",
       "    </tr>\n",
       "    <tr>\n",
       "      <th>1</th>\n",
       "      <td>GARY JIMENEZ</td>\n",
       "      <td>CAPTAIN III (POLICE DEPARTMENT)</td>\n",
       "      <td>155966.02</td>\n",
       "      <td>245131.88</td>\n",
       "      <td>137811.38</td>\n",
       "      <td>Not Provided</td>\n",
       "      <td>538909.28</td>\n",
       "      <td>538909.28</td>\n",
       "      <td>2011</td>\n",
       "    </tr>\n",
       "    <tr>\n",
       "      <th>2</th>\n",
       "      <td>ALBERT PARDINI</td>\n",
       "      <td>CAPTAIN III (POLICE DEPARTMENT)</td>\n",
       "      <td>212739.13</td>\n",
       "      <td>106088.18</td>\n",
       "      <td>16452.60</td>\n",
       "      <td>Not Provided</td>\n",
       "      <td>335279.91</td>\n",
       "      <td>335279.91</td>\n",
       "      <td>2011</td>\n",
       "    </tr>\n",
       "    <tr>\n",
       "      <th>3</th>\n",
       "      <td>CHRISTOPHER CHONG</td>\n",
       "      <td>WIRE ROPE CABLE MAINTENANCE MECHANIC</td>\n",
       "      <td>77916.00</td>\n",
       "      <td>56120.71</td>\n",
       "      <td>198306.90</td>\n",
       "      <td>Not Provided</td>\n",
       "      <td>332343.61</td>\n",
       "      <td>332343.61</td>\n",
       "      <td>2011</td>\n",
       "    </tr>\n",
       "    <tr>\n",
       "      <th>4</th>\n",
       "      <td>PATRICK GARDNER</td>\n",
       "      <td>DEPUTY CHIEF OF DEPARTMENT,(FIRE DEPARTMENT)</td>\n",
       "      <td>134401.60</td>\n",
       "      <td>9737.00</td>\n",
       "      <td>182234.59</td>\n",
       "      <td>Not Provided</td>\n",
       "      <td>326373.19</td>\n",
       "      <td>326373.19</td>\n",
       "      <td>2011</td>\n",
       "    </tr>\n",
       "    <tr>\n",
       "      <th>5</th>\n",
       "      <td>DAVID SULLIVAN</td>\n",
       "      <td>ASSISTANT DEPUTY CHIEF II</td>\n",
       "      <td>118602.00</td>\n",
       "      <td>8601.00</td>\n",
       "      <td>189082.74</td>\n",
       "      <td>Not Provided</td>\n",
       "      <td>316285.74</td>\n",
       "      <td>316285.74</td>\n",
       "      <td>2011</td>\n",
       "    </tr>\n",
       "    <tr>\n",
       "      <th>6</th>\n",
       "      <td>ALSON LEE</td>\n",
       "      <td>BATTALION CHIEF, (FIRE DEPARTMENT)</td>\n",
       "      <td>92492.01</td>\n",
       "      <td>89062.90</td>\n",
       "      <td>134426.14</td>\n",
       "      <td>Not Provided</td>\n",
       "      <td>315981.05</td>\n",
       "      <td>315981.05</td>\n",
       "      <td>2011</td>\n",
       "    </tr>\n",
       "    <tr>\n",
       "      <th>7</th>\n",
       "      <td>DAVID KUSHNER</td>\n",
       "      <td>DEPUTY DIRECTOR OF INVESTMENTS</td>\n",
       "      <td>256576.96</td>\n",
       "      <td>0.00</td>\n",
       "      <td>51322.50</td>\n",
       "      <td>Not Provided</td>\n",
       "      <td>307899.46</td>\n",
       "      <td>307899.46</td>\n",
       "      <td>2011</td>\n",
       "    </tr>\n",
       "    <tr>\n",
       "      <th>8</th>\n",
       "      <td>MICHAEL MORRIS</td>\n",
       "      <td>BATTALION CHIEF, (FIRE DEPARTMENT)</td>\n",
       "      <td>176932.64</td>\n",
       "      <td>86362.68</td>\n",
       "      <td>40132.23</td>\n",
       "      <td>Not Provided</td>\n",
       "      <td>303427.55</td>\n",
       "      <td>303427.55</td>\n",
       "      <td>2011</td>\n",
       "    </tr>\n",
       "    <tr>\n",
       "      <th>9</th>\n",
       "      <td>JOANNE HAYES-WHITE</td>\n",
       "      <td>CHIEF OF DEPARTMENT, (FIRE DEPARTMENT)</td>\n",
       "      <td>285262.00</td>\n",
       "      <td>0.00</td>\n",
       "      <td>17115.73</td>\n",
       "      <td>Not Provided</td>\n",
       "      <td>302377.73</td>\n",
       "      <td>302377.73</td>\n",
       "      <td>2011</td>\n",
       "    </tr>\n",
       "  </tbody>\n",
       "</table>\n",
       "</div>"
      ],
      "text/plain": [
       "         EmployeeName                                        JobTitle  \\\n",
       "0      NATHANIEL FORD  GENERAL MANAGER-METROPOLITAN TRANSIT AUTHORITY   \n",
       "1        GARY JIMENEZ                 CAPTAIN III (POLICE DEPARTMENT)   \n",
       "2      ALBERT PARDINI                 CAPTAIN III (POLICE DEPARTMENT)   \n",
       "3   CHRISTOPHER CHONG            WIRE ROPE CABLE MAINTENANCE MECHANIC   \n",
       "4     PATRICK GARDNER    DEPUTY CHIEF OF DEPARTMENT,(FIRE DEPARTMENT)   \n",
       "5      DAVID SULLIVAN                       ASSISTANT DEPUTY CHIEF II   \n",
       "6           ALSON LEE              BATTALION CHIEF, (FIRE DEPARTMENT)   \n",
       "7       DAVID KUSHNER                  DEPUTY DIRECTOR OF INVESTMENTS   \n",
       "8      MICHAEL MORRIS              BATTALION CHIEF, (FIRE DEPARTMENT)   \n",
       "9  JOANNE HAYES-WHITE          CHIEF OF DEPARTMENT, (FIRE DEPARTMENT)   \n",
       "\n",
       "     BasePay OvertimePay   OtherPay      Benefits   TotalPay  \\\n",
       "0  167411.18        0.00  400184.25  Not Provided  567595.43   \n",
       "1  155966.02   245131.88  137811.38  Not Provided  538909.28   \n",
       "2  212739.13   106088.18   16452.60  Not Provided  335279.91   \n",
       "3   77916.00    56120.71  198306.90  Not Provided  332343.61   \n",
       "4  134401.60     9737.00  182234.59  Not Provided  326373.19   \n",
       "5  118602.00     8601.00  189082.74  Not Provided  316285.74   \n",
       "6   92492.01    89062.90  134426.14  Not Provided  315981.05   \n",
       "7  256576.96        0.00   51322.50  Not Provided  307899.46   \n",
       "8  176932.64    86362.68   40132.23  Not Provided  303427.55   \n",
       "9  285262.00        0.00   17115.73  Not Provided  302377.73   \n",
       "\n",
       "   TotalPayBenefits  Year  \n",
       "0         567595.43  2011  \n",
       "1         538909.28  2011  \n",
       "2         335279.91  2011  \n",
       "3         332343.61  2011  \n",
       "4         326373.19  2011  \n",
       "5         316285.74  2011  \n",
       "6         315981.05  2011  \n",
       "7         307899.46  2011  \n",
       "8         303427.55  2011  \n",
       "9         302377.73  2011  "
      ]
     },
     "execution_count": 1,
     "metadata": {},
     "output_type": "execute_result"
    }
   ],
   "source": [
    "import pandas as pd\n",
    "import os\n",
    "import zipfile\n",
    "\n",
    "employee_List = pd.read_csv('Total.csv', low_memory=False)\n",
    "\n",
    "#return the first 10 employees but number is optional you can insert any number\n",
    "employee_List.head(10)  "
   ]
  },
  {
   "cell_type": "markdown",
   "id": "00747df2-8b57-40f0-b712-c9a0a4fdf604",
   "metadata": {},
   "source": [
    "<h1> Function that accepts an employee's name as input and returns their details </h1>"
   ]
  },
  {
   "cell_type": "code",
   "execution_count": 2,
   "id": "113dad01-ed06-4509-816c-2cd56f76af59",
   "metadata": {},
   "outputs": [
    {
     "name": "stdout",
     "output_type": "stream",
     "text": [
      "Enter employee full name:\n"
     ]
    },
    {
     "name": "stdin",
     "output_type": "stream",
     "text": [
      " ALSON LEE\n"
     ]
    },
    {
     "name": "stdout",
     "output_type": "stream",
     "text": [
      "[{'EmployeeName': 'ALSON LEE', 'JobTitle': 'BATTALION CHIEF, (FIRE DEPARTMENT)', 'BasePay': '92492.01', 'OvertimePay': '89062.90', 'OtherPay': '134426.14', 'Benefits': 'Not Provided', 'TotalPay': 315981.05, 'TotalPayBenefits': 315981.05, 'Year': 2011}]\n"
     ]
    }
   ],
   "source": [
    "def get_employee_details(employee_name, employee_List):\n",
    "    try:\n",
    "        # Filter the dataset by employee name\n",
    "        employee_data = employee_List[employee_List['EmployeeName'].str.lower() == employee_name.lower()]\n",
    "        \n",
    "        if employee_data.empty:\n",
    "            return f\"No details found for employee: {employee_name}\"\n",
    "        \n",
    "        # Convert the result to a dictionary format for better readability\n",
    "        return employee_data.to_dict(orient='records')\n",
    "    \n",
    "    except Exception as e:\n",
    "        return f\"An error occurred: {str(e)}\"\n",
    "\n",
    "print('Enter employee full name:')\n",
    "employee_name = input() \n",
    "employee_details = get_employee_details(employee_name, employee_List)\n",
    "print(employee_details)\n"
   ]
  },
  {
   "cell_type": "markdown",
   "id": "6318fd66-211c-445a-b28a-4a2836c8580c",
   "metadata": {},
   "source": [
    "<h2>Data Processing by sorting Employee's Ascending or Descending basing on their TotalPay</h2>"
   ]
  },
  {
   "cell_type": "code",
   "execution_count": 3,
   "id": "30ba9cf9-2222-46a0-8c77-949100fa4b34",
   "metadata": {},
   "outputs": [
    {
     "name": "stdout",
     "output_type": "stream",
     "text": [
      "                    EmployeeName  TotalPay\n",
      "148649                 Joe Lopez   -618.13\n",
      "270571  Carlos R Castro Santiago   -498.12\n",
      "188036                Lubna Kaur   -292.40\n",
      "229006              Elvira James    -60.00\n",
      "110529            Mark E Laherty      0.00\n",
      "110530             David P Kucia      0.00\n",
      "305500          Ricardo D Bacani      0.00\n",
      "306123           Ceasar G Garcia      0.00\n",
      "306318         Jennifer L Keeton      0.00\n",
      "306330          Francesca Vietor      0.00\n",
      "\n",
      "\n",
      "                EmployeeName   TotalPay\n",
      "270573         Paulo Morgado  592394.34\n",
      "0             NATHANIEL FORD  567595.43\n",
      "270574  William J Coaker Jr.  560793.00\n",
      "229007  William J Coaker Jr.  545294.86\n",
      "1               GARY JIMENEZ  538909.28\n",
      "188037  William J Coaker Jr.  527343.14\n",
      "148650  William J Coaker Jr.  507831.60\n",
      "229010          Ronald Terry  481811.80\n",
      "110531           David Shinn  471952.64\n",
      "270575        David E Francl  468997.01\n"
     ]
    }
   ],
   "source": [
    "def sort_employees_by_totalpay(employee_List, ascending=True):\n",
    "    try:\n",
    "        sorted_employee_List = employee_List.sort_values(by='TotalPay', ascending=ascending)\n",
    "        return sorted_employee_List\n",
    "    \n",
    "    except Exception as e:\n",
    "        return f\"An error occurred: {str(e)}\"\n",
    "\n",
    "# sort in ascending order\n",
    "sorted_employees_asc = sort_employees_by_totalpay(employee_List, ascending=True)\n",
    "print(sorted_employees_asc[['EmployeeName', 'TotalPay']].head(10))  # Display first 10 employees by ascending TotalPay\n",
    "print('\\n')\n",
    "# sort in descending order\n",
    "sorted_employees_desc = sort_employees_by_totalpay(employee_List, ascending=False)\n",
    "print(sorted_employees_desc[['EmployeeName', 'TotalPay']].head(10))  # Display first 10 employees by descending TotalPay\n"
   ]
  },
  {
   "cell_type": "markdown",
   "id": "08c7863c-6cb6-46ac-9fde-082f331deb1d",
   "metadata": {},
   "source": [
    "<h2>Export Employee Details to CSV in Zipped Folder</h2>"
   ]
  },
  {
   "cell_type": "code",
   "execution_count": 4,
   "id": "48b56b21-f09e-4ceb-b3ff-f5c830da7822",
   "metadata": {},
   "outputs": [
    {
     "name": "stdout",
     "output_type": "stream",
     "text": [
      "Enter employee full name:\n"
     ]
    },
    {
     "name": "stdin",
     "output_type": "stream",
     "text": [
      " ALSON LEE\n"
     ]
    },
    {
     "name": "stdout",
     "output_type": "stream",
     "text": [
      "Employee details exported and zipped successfully: Employee Profile/ALSON_LEE.csv\n"
     ]
    }
   ],
   "source": [
    "def export_employee_to_csv(employee_name, employee_List):\n",
    "    try:\n",
    "        employee_details = get_employee_details(employee_name, employee_List)\n",
    "        \n",
    "        if isinstance(employee_details, str):\n",
    "            return employee_details  \n",
    "\n",
    "        os.makedirs('Employee Profile', exist_ok=True)\n",
    "       \n",
    "        file_path = f\"Employee Profile/{employee_name.replace(' ', '_')}.csv\"\n",
    "        \n",
    "        pd.DataFrame(employee_details).to_csv(file_path, index=False)\n",
    "        \n",
    "        with zipfile.ZipFile('Employee Profile.zip', 'w') as zipf:\n",
    "            zipf.write(file_path)\n",
    "        \n",
    "        return f\"Employee details exported and zipped successfully: {file_path}\"\n",
    "    \n",
    "    except Exception as e:\n",
    "        return f\"An error occurred: {str(e)}\"\n",
    "\n",
    "# Export the employee details and zip\n",
    "print('Enter employee full name:')\n",
    "employee_name = input() \n",
    "result = export_employee_to_csv(employee_name, employee_List)\n",
    "print(result)\n"
   ]
  }
 ],
 "metadata": {
  "kernelspec": {
   "display_name": "Python 3 (ipykernel)",
   "language": "python",
   "name": "python3"
  },
  "language_info": {
   "codemirror_mode": {
    "name": "ipython",
    "version": 3
   },
   "file_extension": ".py",
   "mimetype": "text/x-python",
   "name": "python",
   "nbconvert_exporter": "python",
   "pygments_lexer": "ipython3",
   "version": "3.12.4"
  }
 },
 "nbformat": 4,
 "nbformat_minor": 5
}
